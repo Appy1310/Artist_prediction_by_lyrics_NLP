{
 "cells": [
  {
   "cell_type": "code",
   "execution_count": 6,
   "metadata": {},
   "outputs": [],
   "source": [
    "import pandas as pd\n",
    "import seaborn as sns\n",
    "import numpy as np\n",
    "import matplotlib.pyplot as plt\n",
    "import matplotlib\n",
    "\n",
    "from os import path\n",
    "from PIL import Image\n",
    "from wordcloud import WordCloud, STOPWORDS, ImageColorGenerator\n",
    "\n",
    "\n",
    "\n",
    "\n",
    "import requests\n",
    "import time\n",
    "import random\n",
    "\n",
    "from bs4 import BeautifulSoup\n",
    "\n",
    "from IPython.display import HTML, display\n",
    "import matplotlib as mpl\n",
    "mpl.rcParams['figure.dpi'] = 300\n",
    "from datetime import datetime\n",
    "\n",
    "from sklearn.model_selection import KFold\n",
    "import spacy\n",
    "import re\n",
    "from sklearn.feature_extraction.text import CountVectorizer\n",
    "from sklearn.model_selection import train_test_split\n",
    "\n",
    "from sklearn.preprocessing import LabelBinarizer\n",
    "import json\n",
    "import pickle"
   ]
  },
  {
   "cell_type": "code",
   "execution_count": 31,
   "metadata": {},
   "outputs": [],
   "source": [
    "def list_artist_link_lyrics(artist):\n",
    "    '''\n",
    "    Fetches list of links of songs of the artist in www.lyrics.com and returns a list containing\n",
    "    link of the lyrics and song names. The input has to be given as a string.\n",
    "    \n",
    "    '''\n",
    "    # Reading the html file\n",
    "    HtmlFile_artist = open(f\"{artist}.html\", 'r', encoding='utf-8')\n",
    "    source_code_artist = HtmlFile_artist.read()\n",
    "    \n",
    "    # Use BeautySoup to find the lyrics links\n",
    "    # Create a BeautifulSoup object\n",
    "    \n",
    "    soup_artist = BeautifulSoup(source_code_artist)\n",
    "    song_links_artist = soup_artist.find_all('td', class_ = \"tal qx\")\n",
    "    return song_links_artist\n",
    "    \n",
    "    "
   ]
  },
  {
   "cell_type": "code",
   "execution_count": 32,
   "metadata": {},
   "outputs": [
    {
     "data": {
      "text/plain": [
       "[<td class=\"tal qx\"><strong><a href=\"/lyric/15287636/Mehul+Kumar/Shreeji+Pyare\">Shreeji Pyare</a></strong></td>]"
      ]
     },
     "execution_count": 32,
     "metadata": {},
     "output_type": "execute_result"
    }
   ],
   "source": [
    "list_artist_link_lyrics('Mehul-Kumar')\n"
   ]
  },
  {
   "cell_type": "code",
   "execution_count": 33,
   "metadata": {},
   "outputs": [],
   "source": [
    "def link_lyrics_artist(artist):\n",
    "    '''\n",
    "    Create a DataFrame of links of artist song lyrics.\n",
    "    \n",
    "    '''\n",
    "    \n",
    "    links_artist = []\n",
    "    for link_tag in list_artist_link_lyrics(artist):\n",
    "        link = link_tag.find('a').get('href')\n",
    "        link_text = link_tag.get_text()\n",
    "       # print(link, link_text)\n",
    "        links_artist.append((link, link_text))\n",
    "        \n",
    "    df_artist = pd.DataFrame(links_artist, columns=[  'song_link', 'song'])   \n",
    "    df_artist.drop_duplicates(inplace=True, subset=['song'], ignore_index=True)\n",
    "    return df_artist"
   ]
  },
  {
   "cell_type": "code",
   "execution_count": 34,
   "metadata": {},
   "outputs": [
    {
     "data": {
      "text/html": [
       "<div>\n",
       "<style scoped>\n",
       "    .dataframe tbody tr th:only-of-type {\n",
       "        vertical-align: middle;\n",
       "    }\n",
       "\n",
       "    .dataframe tbody tr th {\n",
       "        vertical-align: top;\n",
       "    }\n",
       "\n",
       "    .dataframe thead th {\n",
       "        text-align: right;\n",
       "    }\n",
       "</style>\n",
       "<table border=\"1\" class=\"dataframe\">\n",
       "  <thead>\n",
       "    <tr style=\"text-align: right;\">\n",
       "      <th></th>\n",
       "      <th>song_link</th>\n",
       "      <th>song</th>\n",
       "    </tr>\n",
       "  </thead>\n",
       "  <tbody>\n",
       "    <tr>\n",
       "      <th>0</th>\n",
       "      <td>/lyric/15287636/Mehul+Kumar/Shreeji+Pyare</td>\n",
       "      <td>Shreeji Pyare</td>\n",
       "    </tr>\n",
       "  </tbody>\n",
       "</table>\n",
       "</div>"
      ],
      "text/plain": [
       "                                   song_link           song\n",
       "0  /lyric/15287636/Mehul+Kumar/Shreeji+Pyare  Shreeji Pyare"
      ]
     },
     "execution_count": 34,
     "metadata": {},
     "output_type": "execute_result"
    }
   ],
   "source": [
    "link_lyrics_artist('Mehul-Kumar')"
   ]
  }
 ],
 "metadata": {
  "kernelspec": {
   "display_name": "Python 3",
   "language": "python",
   "name": "python3"
  },
  "language_info": {
   "codemirror_mode": {
    "name": "ipython",
    "version": 3
   },
   "file_extension": ".py",
   "mimetype": "text/x-python",
   "name": "python",
   "nbconvert_exporter": "python",
   "pygments_lexer": "ipython3",
   "version": "3.8.5"
  }
 },
 "nbformat": 4,
 "nbformat_minor": 4
}
