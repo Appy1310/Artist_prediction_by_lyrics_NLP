{
 "cells": [
  {
   "cell_type": "code",
   "execution_count": 10,
   "metadata": {},
   "outputs": [],
   "source": [
    "import pandas as pd\n",
    "import seaborn as sns\n",
    "import numpy as np\n",
    "import matplotlib.pyplot as plt\n",
    "import matplotlib\n",
    "\n",
    "from os import path\n",
    "from PIL import Image\n",
    "from wordcloud import WordCloud, STOPWORDS, ImageColorGenerator\n",
    "\n",
    "import requests\n",
    "import time\n",
    "import random\n",
    "from tqdm import tqdm_notebook\n",
    "\n",
    "from bs4 import BeautifulSoup\n",
    "\n",
    "from IPython.display import HTML, display\n",
    "import matplotlib as mpl\n",
    "mpl.rcParams['figure.dpi'] = 300\n",
    "from datetime import datetime\n",
    "\n",
    "from sklearn.model_selection import KFold\n",
    "import spacy\n",
    "import re\n",
    "from sklearn.feature_extraction.text import CountVectorizer\n",
    "from sklearn.model_selection import train_test_split\n",
    "from Function_list_artist_link_lyrics import list_artist_link_lyrics\n",
    "from Function_link_artist_lyrics import link_lyrics_artist"
   ]
  },
  {
   "cell_type": "code",
   "execution_count": 11,
   "metadata": {},
   "outputs": [],
   "source": [
    "def lyrics_artist(artist):\n",
    "    '''\n",
    "    Create a DataFrame of lyrics of artist songs.\n",
    "    '''\n",
    "    lyrics_artist = []\n",
    "    df = link_lyrics_artist(artist)\n",
    "    for link in tqdm_notebook(df['song_link']):\n",
    "        link_url = f\" https://www.lyrics.com{link}\"\n",
    "        resp_lyrics = requests.get(link_url)\n",
    "        time.sleep(random.random()/10+.01)\n",
    "        soup_lyrics = BeautifulSoup(resp_lyrics.text)\n",
    "        lyrics_text = soup_lyrics.find('pre', id ='lyric-body-text').get_text()\n",
    "        #print(lyrics_text, song_name)\n",
    "        lyrics_artist.append(lyrics_text)\n",
    "        \n",
    "        # Add the artist name and remove duplications with lyrics\n",
    "        df['lyrics']= lyrics_artist\n",
    "        df['artist_name']= 'artist'\n",
    "        df = df.drop_duplicates(subset=['lyrics'])\n",
    "\n",
    "    \n",
    "    return df \n",
    "    \n",
    "   "
   ]
  },
  {
   "cell_type": "code",
   "execution_count": 12,
   "metadata": {},
   "outputs": [
    {
     "name": "stderr",
     "output_type": "stream",
     "text": [
      "/home/aprameyo/anaconda3/lib/python3.7/site-packages/ipykernel_launcher.py:8: TqdmDeprecationWarning: This function will be removed in tqdm==5.0.0\n",
      "Please use `tqdm.notebook.tqdm` instead of `tqdm.tqdm_notebook`\n",
      "  \n"
     ]
    },
    {
     "data": {
      "application/vnd.jupyter.widget-view+json": {
       "model_id": "2dd64587273f4d38b267d5e93df41c09",
       "version_major": 2,
       "version_minor": 0
      },
      "text/plain": [
       "HBox(children=(FloatProgress(value=0.0, max=1.0), HTML(value='')))"
      ]
     },
     "metadata": {},
     "output_type": "display_data"
    },
    {
     "name": "stdout",
     "output_type": "stream",
     "text": [
      "\n"
     ]
    },
    {
     "data": {
      "text/html": [
       "<div>\n",
       "<style scoped>\n",
       "    .dataframe tbody tr th:only-of-type {\n",
       "        vertical-align: middle;\n",
       "    }\n",
       "\n",
       "    .dataframe tbody tr th {\n",
       "        vertical-align: top;\n",
       "    }\n",
       "\n",
       "    .dataframe thead th {\n",
       "        text-align: right;\n",
       "    }\n",
       "</style>\n",
       "<table border=\"1\" class=\"dataframe\">\n",
       "  <thead>\n",
       "    <tr style=\"text-align: right;\">\n",
       "      <th></th>\n",
       "      <th>song_link</th>\n",
       "      <th>song</th>\n",
       "      <th>lyrics</th>\n",
       "      <th>artist_name</th>\n",
       "    </tr>\n",
       "  </thead>\n",
       "  <tbody>\n",
       "    <tr>\n",
       "      <th>0</th>\n",
       "      <td>/lyric/15287636/Mehul+Kumar/Shreeji+Pyare</td>\n",
       "      <td>Shreeji Pyare</td>\n",
       "      <td>Sentado à noite na porta da rua\\nEu sou menino...</td>\n",
       "      <td>artist</td>\n",
       "    </tr>\n",
       "  </tbody>\n",
       "</table>\n",
       "</div>"
      ],
      "text/plain": [
       "                                   song_link           song  \\\n",
       "0  /lyric/15287636/Mehul+Kumar/Shreeji+Pyare  Shreeji Pyare   \n",
       "\n",
       "                                              lyrics artist_name  \n",
       "0  Sentado à noite na porta da rua\\nEu sou menino...      artist  "
      ]
     },
     "execution_count": 12,
     "metadata": {},
     "output_type": "execute_result"
    }
   ],
   "source": [
    "lyrics_artist('Mehul-Kumar')"
   ]
  }
 ],
 "metadata": {
  "kernelspec": {
   "display_name": "Python 3",
   "language": "python",
   "name": "python3"
  },
  "language_info": {
   "codemirror_mode": {
    "name": "ipython",
    "version": 3
   },
   "file_extension": ".py",
   "mimetype": "text/x-python",
   "name": "python",
   "nbconvert_exporter": "python",
   "pygments_lexer": "ipython3",
   "version": "3.8.5"
  }
 },
 "nbformat": 4,
 "nbformat_minor": 4
}
